{
 "cells": [
  {
   "cell_type": "markdown",
   "metadata": {},
   "source": [
    "I need to know how well my algorithms perform on unseen data. \n",
    "\n",
    "1.The best way to evaluate the performance of an algo would be to make predictions for new data to which you already know the answers.  \n",
    "2.The second way is to use clever techniques from statistics called **resampling methonds** that allow me to make accurate estimates for how \n",
    "well my Algo will perform on new data.\n",
    "\n",
    "- dataset: Pima Indians dataset  \n",
    "- tool: using resampling methods in python and scikit-learn"
   ]
  },
  {
   "cell_type": "markdown",
   "metadata": {},
   "source": [
    "# Evaluate ML Algo\n",
    "\n",
    "不能用相同的数据进行训练和测试，这样容易造成 overfitting\n",
    "\n",
    "> The evaluation is an estimate that we can use to talk about how well we think the algorithm\n",
    "may actually do in practice. It is not a guarantee of performance.\n",
    "\n",
    "## 4 different techniques using to split up my trainning dateset and creat useful estimates of performance for my ML Algo:\n",
    "\n",
    "- Train and test sets\n",
    "- K-fold Cross Validation\n",
    "- Leave One Out Cross Validation\n",
    "- Repeated Random Test-Train Splits\n",
    "\n",
    "### 1-Split it"
   ]
  },
  {
   "cell_type": "code",
   "execution_count": 4,
   "metadata": {
    "collapsed": false
   },
   "outputs": [
    {
     "name": "stdout",
     "output_type": "stream",
     "text": [
      "Accuracy:75.5905511811%\n"
     ]
    }
   ],
   "source": [
    "# Evaluate using a train and a test set\n",
    "import pandas\n",
    "from sklearn import cross_validation\n",
    "from sklearn.linear_model import LogisticRegression\n",
    "\n",
    "url = \"https://archive.ics.uci.edu/ml/machine-learning-databases/pima-indians-diabetes/pima-indians-diabetes.data\"\n",
    "names = ['preg', 'plas', 'pres', 'skin', 'test', 'mass', 'pedi', 'age', 'class']\n",
    "dataframe = pandas.read_csv(url, names=names)\n",
    "array = dataframe.values\n",
    "X = array[:,0:8]\n",
    "Y = array[:,8]\n",
    "\n",
    "test_size = 0.33\n",
    "seed = 7\n",
    "X_train, X_test, Y_train, Y_test = cross_validation.train_test_split(X, Y, test_size=test_size, random_state=seed)\n",
    "\n",
    "model = LogisticRegression()\n",
    "model.fit(X_train, Y_train)\n",
    "\n",
    "result = model.score(X_test, Y_test)\n",
    "print(\"Accuracy:{}%\".format(result*100))"
   ]
  },
  {
   "cell_type": "markdown",
   "metadata": {},
   "source": [
    ">  A downside of this technique is that it can have a high\n",
    "variance. This means that di\u000b",
    "erences in the training and test dataset can result in meaningful\n",
    "di\u000b",
    "erences in the estimate of accuracy. \n",
    "\n",
    "random seed\n",
    "\n",
    "1.why \n",
    "\n",
    "Because the\n",
    "split of the data is random, we want to ensure that the results are reproducible.\n",
    "\n",
    "2.how \n",
    "\n",
    "By specifyingthe random seed we ensure that we get the same random numbers each time we run the code and in turn the same split of data. \n",
    "\n",
    "To ensure the comparison was apples-for-apples, we must ensure that they are trained and tested on exactly the same data"
   ]
  },
  {
   "cell_type": "markdown",
   "metadata": {},
   "source": [
    "## 2 K-fold Cross Validation"
   ]
  },
  {
   "cell_type": "code",
   "execution_count": 12,
   "metadata": {
    "collapsed": false
   },
   "outputs": [
    {
     "name": "stdout",
     "output_type": "stream",
     "text": [
      "Accuracy: 76.951% (4.841%)\n"
     ]
    }
   ],
   "source": [
    "import pandas\n",
    "from sklearn import cross_validation\n",
    "from sklearn.linear_model import LogisticRegression\n",
    "\n",
    "url = \"https://archive.ics.uci.edu/ml/machine-learning-databases/pima-indians-diabetes/pima-indians-diabetes.data\"\n",
    "names = ['preg', 'plas', 'pres', 'skin', 'test', 'mass', 'pedi', 'age', 'class']\n",
    "dataframe = pandas.read_csv(url, names=names)\n",
    "\n",
    "array = dataframe.values\n",
    "X = array[:,0:8]\n",
    "Y = array[:,8]\n",
    "\n",
    "num_folds = 10\n",
    "num_instances = len(X)\n",
    "seed = 7\n",
    "kfold = cross_validation.KFold(n=num_instances, n_folds=num_folds, random_state=seed)\n",
    "model = LogisticRegression()\n",
    "\n",
    "results = cross_validation.cross_val_score(model, X, Y, cv=kfold)\n",
    "\n",
    "print(\"Accuracy: {0:.3f}% ({1:.3f}%)\".format(results.mean()*100.0, results.std()*100.0))"
   ]
  },
  {
   "cell_type": "markdown",
   "metadata": {},
   "source": [
    "### 3 Leave One Out Cross Validation"
   ]
  },
  {
   "cell_type": "code",
   "execution_count": 14,
   "metadata": {
    "collapsed": false
   },
   "outputs": [
    {
     "name": "stdout",
     "output_type": "stream",
     "text": [
      "Accuracy: 76.823% (42.196%)\n"
     ]
    }
   ],
   "source": [
    "import pandas\n",
    "from sklearn import cross_validation\n",
    "from sklearn.linear_model import LogisticRegression\n",
    "\n",
    "url = \"https://archive.ics.uci.edu/ml/machine-learning-databases/pima-indians-diabetes/pima-indians-diabetes.data\"\n",
    "names = ['preg', 'plas', 'pres', 'skin', 'test', 'mass', 'pedi', 'age', 'class']\n",
    "dataframe = pandas.read_csv(url, names=names)\n",
    "\n",
    "array = dataframe.values\n",
    "X = array[:,0:8]\n",
    "Y = array[:,8]\n",
    "\n",
    "num_folds = 10\n",
    "num_instances = len(X)\n",
    "seed = 7\n",
    "loocv = cross_validation.LeaveOneOut(n=num_instances)\n",
    "model = LogisticRegression()\n",
    "\n",
    "results = cross_validation.cross_val_score(model, X, Y, cv=loocv)\n",
    "\n",
    "print(\"Accuracy: {0:.3f}% ({1:.3f}%)\".format(results.mean()*100.0, results.std()*100.0))"
   ]
  },
  {
   "cell_type": "markdown",
   "metadata": {},
   "source": [
    "### 4 Repeated Random Test-Train Splits"
   ]
  },
  {
   "cell_type": "code",
   "execution_count": 18,
   "metadata": {
    "collapsed": false
   },
   "outputs": [
    {
     "name": "stdout",
     "output_type": "stream",
     "text": [
      "Accuracy: 76.575% (1.663%)\n"
     ]
    }
   ],
   "source": [
    "import pandas\n",
    "from sklearn import cross_validation\n",
    "from sklearn.linear_model import LogisticRegression\n",
    "\n",
    "url = \"https://archive.ics.uci.edu/ml/machine-learning-databases/pima-indians-diabetes/pima-indians-diabetes.data\"\n",
    "names = ['preg', 'plas', 'pres', 'skin', 'test', 'mass', 'pedi', 'age', 'class']\n",
    "dataframe = pandas.read_csv(url, names=names)\n",
    "\n",
    "array = dataframe.values\n",
    "X = array[:,0:8]\n",
    "Y = array[:,8]\n",
    "\n",
    "num_samples = 10\n",
    "test_size = 0.33\n",
    "num_instances = len(X)\n",
    "seed = 7\n",
    "\n",
    "repeated = cross_validation.ShuffleSplit(n=num_instances, n_iter=num_samples,\n",
    "                                     test_size=test_size, random_state=seed)\n",
    "model = LogisticRegression()\n",
    "\n",
    "results = cross_validation.cross_val_score(model, X, Y, cv=repeated)\n",
    "\n",
    "print(\"Accuracy: {0:0.3f}% ({1:0.3f}%)\".format(results.mean()*100.0, results.std()*100.0))"
   ]
  }
 ],
 "metadata": {
  "kernelspec": {
   "display_name": "Python 2",
   "language": "python",
   "name": "python2"
  },
  "language_info": {
   "codemirror_mode": {
    "name": "ipython",
    "version": 2
   },
   "file_extension": ".py",
   "mimetype": "text/x-python",
   "name": "python",
   "nbconvert_exporter": "python",
   "pygments_lexer": "ipython2",
   "version": "2.7.11"
  }
 },
 "nbformat": 4,
 "nbformat_minor": 0
}
