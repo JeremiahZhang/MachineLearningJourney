{
 "metadata": {
  "name": ""
 },
 "nbformat": 3,
 "nbformat_minor": 0,
 "worksheets": [
  {
   "cells": [
    {
     "cell_type": "code",
     "collapsed": false,
     "input": [
      "import pandas"
     ],
     "language": "python",
     "metadata": {},
     "outputs": [],
     "prompt_number": 1
    },
    {
     "cell_type": "code",
     "collapsed": false,
     "input": [
      "url = \"https://archive.ics.uci.edu/ml/machine-learning-databases/pima-indians-diabetes/pima-indians-diabetes.data\""
     ],
     "language": "python",
     "metadata": {},
     "outputs": [],
     "prompt_number": 2
    },
    {
     "cell_type": "code",
     "collapsed": false,
     "input": [
      "names = ['preg', 'plas', 'pres', 'skin', 'test', 'mass', 'pedi', 'age', 'class']"
     ],
     "language": "python",
     "metadata": {},
     "outputs": [],
     "prompt_number": 3
    },
    {
     "cell_type": "code",
     "collapsed": false,
     "input": [
      "data = pandas.read_csv(url, names=names)"
     ],
     "language": "python",
     "metadata": {},
     "outputs": [],
     "prompt_number": 4
    },
    {
     "cell_type": "code",
     "collapsed": false,
     "input": [
      "peek = data.head(20)\n",
      "# using the head() function on the Pandas DataFrame"
     ],
     "language": "python",
     "metadata": {},
     "outputs": [],
     "prompt_number": 5
    },
    {
     "cell_type": "code",
     "collapsed": false,
     "input": [
      "print(peek)"
     ],
     "language": "python",
     "metadata": {},
     "outputs": [
      {
       "output_type": "stream",
       "stream": "stdout",
       "text": [
        "    preg  plas  pres  skin  test  mass   pedi  age  class\n",
        "0      6   148    72    35     0  33.6  0.627   50      1\n",
        "1      1    85    66    29     0  26.6  0.351   31      0\n",
        "2      8   183    64     0     0  23.3  0.672   32      1\n",
        "3      1    89    66    23    94  28.1  0.167   21      0\n",
        "4      0   137    40    35   168  43.1  2.288   33      1\n",
        "5      5   116    74     0     0  25.6  0.201   30      0\n",
        "6      3    78    50    32    88  31.0  0.248   26      1\n",
        "7     10   115     0     0     0  35.3  0.134   29      0\n",
        "8      2   197    70    45   543  30.5  0.158   53      1\n",
        "9      8   125    96     0     0   0.0  0.232   54      1\n",
        "10     4   110    92     0     0  37.6  0.191   30      0\n",
        "11    10   168    74     0     0  38.0  0.537   34      1\n",
        "12    10   139    80     0     0  27.1  1.441   57      0\n",
        "13     1   189    60    23   846  30.1  0.398   59      1\n",
        "14     5   166    72    19   175  25.8  0.587   51      1\n",
        "15     7   100     0     0     0  30.0  0.484   32      1\n",
        "16     0   118    84    47   230  45.8  0.551   31      1\n",
        "17     7   107    74     0     0  29.6  0.254   31      1\n",
        "18     1   103    30    38    83  43.3  0.183   33      0\n",
        "19     1   115    70    30    96  34.6  0.529   32      1\n",
        "\n",
        "[20 rows x 9 columns]\n"
       ]
      }
     ],
     "prompt_number": 6
    },
    {
     "cell_type": "code",
     "collapsed": false,
     "input": [
      "# Dimensions of My data\n",
      "shape = data.shape"
     ],
     "language": "python",
     "metadata": {},
     "outputs": [],
     "prompt_number": 7
    },
    {
     "cell_type": "code",
     "collapsed": false,
     "input": [
      "print(shape) \n",
      "# you can see the dimensions"
     ],
     "language": "python",
     "metadata": {},
     "outputs": [
      {
       "output_type": "stream",
       "stream": "stdout",
       "text": [
        "(768, 9)\n"
       ]
      }
     ],
     "prompt_number": 8
    },
    {
     "cell_type": "code",
     "collapsed": false,
     "input": [
      "# Dara Type For each attribute\n",
      "## list the data types used by the DataFrame to characterize\n",
      "## each attribute using the dtypes property\n",
      "types = data.dtypes\n",
      "print(types)"
     ],
     "language": "python",
     "metadata": {},
     "outputs": [
      {
       "output_type": "stream",
       "stream": "stdout",
       "text": [
        "preg       int64\n",
        "plas       int64\n",
        "pres       int64\n",
        "skin       int64\n",
        "test       int64\n",
        "mass     float64\n",
        "pedi     float64\n",
        "age        int64\n",
        "class      int64\n",
        "dtype: object\n"
       ]
      }
     ],
     "prompt_number": 9
    },
    {
     "cell_type": "code",
     "collapsed": false,
     "input": [
      "# Descriptive Statistics\n",
      "## describe() function in the Pandas DataFrame\n",
      "## list 8 statistical properties of each attribute.\n",
      "## 1.count, 2.mean, 3.standard deviation, 4.minimum values\n",
      "## 5.25th percentile, 6.50th percentile(Median), 7.75th percentile 8. Maximum value"
     ],
     "language": "python",
     "metadata": {},
     "outputs": [],
     "prompt_number": 10
    },
    {
     "cell_type": "code",
     "collapsed": false,
     "input": [
      "# Statistical Summary\n",
      "pandas.set_option('display.width', 100)\n",
      "pandas.set_option('precision', 3)\n",
      "description = data.describe()\n",
      "print(description)"
     ],
     "language": "python",
     "metadata": {},
     "outputs": [
      {
       "output_type": "stream",
       "stream": "stdout",
       "text": [
        "         preg    plas    pres    skin    test    mass    pedi     age   class\n",
        "count  768.00  768.00  768.00  768.00  768.00  768.00  768.00  768.00  768.00\n",
        "mean     3.85  120.89   69.11   20.54   79.80   31.99    0.47   33.24    0.35\n",
        "std      3.37   31.97   19.36   15.95  115.24    7.88    0.33   11.76    0.48\n",
        "min      0.00    0.00    0.00    0.00    0.00    0.00    0.08   21.00    0.00\n",
        "25%      1.00   99.00   62.00    0.00    0.00   27.30    0.24   24.00    0.00\n",
        "50%      3.00  117.00   72.00   23.00   30.50   32.00    0.37   29.00    0.00\n",
        "75%      6.00  140.25   80.00   32.00  127.25   36.60    0.63   41.00    1.00\n",
        "max     17.00  199.00  122.00   99.00  846.00   67.10    2.42   81.00    1.00\n",
        "\n",
        "[8 rows x 9 columns]\n"
       ]
      }
     ],
     "prompt_number": 11
    },
    {
     "cell_type": "code",
     "collapsed": false,
     "input": [
      "# Class Distribution (classification only)\n",
      "class_counts = data.groupby('class').size()\n",
      "print(class_counts)"
     ],
     "language": "python",
     "metadata": {},
     "outputs": [
      {
       "output_type": "stream",
       "stream": "stdout",
       "text": [
        "class\n",
        "0        500\n",
        "1        268\n",
        "dtype: int64\n"
       ]
      }
     ],
     "prompt_number": 12
    },
    {
     "cell_type": "code",
     "collapsed": false,
     "input": [
      "# Correlations Between Attributes"
     ],
     "language": "python",
     "metadata": {},
     "outputs": [],
     "prompt_number": 13
    },
    {
     "cell_type": "code",
     "collapsed": false,
     "input": [
      "# use corr() function on Pandas DataFrame to calculate a correlation matrix"
     ],
     "language": "python",
     "metadata": {},
     "outputs": [],
     "prompt_number": 14
    },
    {
     "cell_type": "code",
     "collapsed": false,
     "input": [
      "# pandas.set_option has set above in the in[11]\n",
      "correlations = data.corr(method='pearson')\n",
      "print(correlations)"
     ],
     "language": "python",
     "metadata": {},
     "outputs": [
      {
       "output_type": "stream",
       "stream": "stdout",
       "text": [
        "       preg  plas  pres  skin  test  mass  pedi   age  class\n",
        "preg   1.00  0.13  0.14 -0.08 -0.07  0.02 -0.03  0.54   0.22\n",
        "plas   0.13  1.00  0.15  0.06  0.33  0.22  0.14  0.26   0.47\n",
        "pres   0.14  0.15  1.00  0.21  0.09  0.28  0.04  0.24   0.07\n",
        "skin  -0.08  0.06  0.21  1.00  0.44  0.39  0.18 -0.11   0.07\n",
        "test  -0.07  0.33  0.09  0.44  1.00  0.20  0.19 -0.04   0.13\n",
        "mass   0.02  0.22  0.28  0.39  0.20  1.00  0.14  0.04   0.29\n",
        "pedi  -0.03  0.14  0.04  0.18  0.19  0.14  1.00  0.03   0.17\n",
        "age    0.54  0.26  0.24 -0.11 -0.04  0.04  0.03  1.00   0.24\n",
        "class  0.22  0.47  0.07  0.07  0.13  0.29  0.17  0.24   1.00\n",
        "\n",
        "[9 rows x 9 columns]\n"
       ]
      }
     ],
     "prompt_number": 15
    },
    {
     "cell_type": "code",
     "collapsed": false,
     "input": [
      "pandas.set_option('display.width', 100)\n",
      "pandas.set_option('precision', 3)\n",
      "correlations = data.corr(method='pearson')\n",
      "print(correlations)"
     ],
     "language": "python",
     "metadata": {},
     "outputs": [
      {
       "output_type": "stream",
       "stream": "stdout",
       "text": [
        "       preg  plas  pres  skin  test  mass  pedi   age  class\n",
        "preg   1.00  0.13  0.14 -0.08 -0.07  0.02 -0.03  0.54   0.22\n",
        "plas   0.13  1.00  0.15  0.06  0.33  0.22  0.14  0.26   0.47\n",
        "pres   0.14  0.15  1.00  0.21  0.09  0.28  0.04  0.24   0.07\n",
        "skin  -0.08  0.06  0.21  1.00  0.44  0.39  0.18 -0.11   0.07\n",
        "test  -0.07  0.33  0.09  0.44  1.00  0.20  0.19 -0.04   0.13\n",
        "mass   0.02  0.22  0.28  0.39  0.20  1.00  0.14  0.04   0.29\n",
        "pedi  -0.03  0.14  0.04  0.18  0.19  0.14  1.00  0.03   0.17\n",
        "age    0.54  0.26  0.24 -0.11 -0.04  0.04  0.03  1.00   0.24\n",
        "class  0.22  0.47  0.07  0.07  0.13  0.29  0.17  0.24   1.00\n",
        "\n",
        "[9 rows x 9 columns]\n"
       ]
      }
     ],
     "prompt_number": 16
    },
    {
     "cell_type": "code",
     "collapsed": false,
     "input": [
      "# 5.7 skew of univariate distributions\n",
      "# skew for each attribute using skew() function on the Pandas DataFrame\n",
      "skew = data.skew()\n",
      "print(skew)"
     ],
     "language": "python",
     "metadata": {},
     "outputs": [
      {
       "output_type": "stream",
       "stream": "stdout",
       "text": [
        "preg     0.90\n",
        "plas     0.17\n",
        "pres    -1.84\n",
        "skin     0.11\n",
        "test     2.27\n",
        "mass    -0.43\n",
        "pedi     1.92\n",
        "age      1.13\n",
        "class    0.64\n",
        "dtype: float64\n"
       ]
      }
     ],
     "prompt_number": 17
    },
    {
     "cell_type": "code",
     "collapsed": false,
     "input": [
      "# values closer to zero show less skew"
     ],
     "language": "python",
     "metadata": {},
     "outputs": [],
     "prompt_number": 18
    },
    {
     "cell_type": "code",
     "collapsed": false,
     "input": [
      "# summary\n",
      "# 1.Peek my raw data: head() to peek my data\n",
      "# 2.Dimensions: shape property to see the dimension of my data like this mydata.shape\n",
      "# 3.Data Types: dtypes property to see the data type of each attribute using this mydata.dtypes\n",
      "# 4.Data Summmary\uff1a describe() to see the decription of statistics \u4e00\u4e9b\u7edf\u8ba1\u7279\u5f81 \u5982\u5747\u503c\u7b49\n",
      "# 5.Class Distribution: data.groupby('class').size() \u7c7b\u522b\u6570\u7684\u7edf\u8ba1\n",
      "# 6.Correlation: using corr() function\n",
      "# 7.Skewness: using skew() to see "
     ],
     "language": "python",
     "metadata": {},
     "outputs": [],
     "prompt_number": 19
    },
    {
     "cell_type": "code",
     "collapsed": false,
     "input": [],
     "language": "python",
     "metadata": {},
     "outputs": []
    }
   ],
   "metadata": {}
  }
 ]
}