{
 "cells": [
  {
   "cell_type": "markdown",
   "metadata": {},
   "source": [
    "## intro\n",
    "\n",
    "> 1  NumPy provides a multidimensional array object that support optimized vector operations.\n",
    "\n",
    "> 2 SciPy offers a wide variety of scientific algorithms(signal processing, optimization, and so on)that are based on NumPy.\n",
    "\n",
    "> 3 Pandas proposed convenient data structures for tabular data coming form real world data set.\n",
    "\n",
    "> 4 Matplotlib allows to plot graphical figures easily so as to visualize interactively any form of data, and to generate pubilcation-quality\n",
    "> figures.\n",
    "\n",
    "> 5 IPython provide the adequate interactive framework for using all these tools in a streamlined way.\n",
    "\n",
    "from IPython minibook"
   ]
  },
  {
   "cell_type": "markdown",
   "metadata": {},
   "source": [
    "## Interactive data analysis with pandas\n",
    "reference:\n",
    "    https://github.com/ipython-books/minibook-2nd-code#2-interactive-data-analysis-with-pandas"
   ]
  },
  {
   "cell_type": "markdown",
   "metadata": {},
   "source": [
    "so 数据从何而来？   \n",
    "网页？  \n",
    "下载？"
   ]
  },
  {
   "cell_type": "code",
   "execution_count": 5,
   "metadata": {
    "collapsed": false
   },
   "outputs": [],
   "source": [
    "import numpy as np\n",
    "import pandas as pd\n",
    "import matplotlib.pyplot as plt"
   ]
  },
  {
   "cell_type": "code",
   "execution_count": 6,
   "metadata": {
    "collapsed": false
   },
   "outputs": [],
   "source": [
    "url = \"https://archive.ics.uci.edu/ml/machine-learning-databases/pima-indians-diabetes/pima-indians-diabetes.data\"\n",
    "names = ['preg', 'plas', 'pres', 'skin', 'test', 'mass', 'pedi', 'age', 'class']\n",
    "data = pd.read_csv(url, names=names)"
   ]
  },
  {
   "cell_type": "code",
   "execution_count": 8,
   "metadata": {
    "collapsed": false
   },
   "outputs": [
    {
     "data": {
      "text/html": [
       "<div>\n",
       "<table border=\"1\" class=\"dataframe\">\n",
       "  <thead>\n",
       "    <tr style=\"text-align: right;\">\n",
       "      <th></th>\n",
       "      <th>preg</th>\n",
       "      <th>plas</th>\n",
       "      <th>pres</th>\n",
       "      <th>skin</th>\n",
       "      <th>test</th>\n",
       "      <th>mass</th>\n",
       "      <th>pedi</th>\n",
       "      <th>age</th>\n",
       "      <th>class</th>\n",
       "    </tr>\n",
       "  </thead>\n",
       "  <tbody>\n",
       "    <tr>\n",
       "      <th>0</th>\n",
       "      <td>6</td>\n",
       "      <td>148</td>\n",
       "      <td>72</td>\n",
       "      <td>35</td>\n",
       "      <td>0</td>\n",
       "      <td>33.6</td>\n",
       "      <td>0.627</td>\n",
       "      <td>50</td>\n",
       "      <td>1</td>\n",
       "    </tr>\n",
       "    <tr>\n",
       "      <th>1</th>\n",
       "      <td>1</td>\n",
       "      <td>85</td>\n",
       "      <td>66</td>\n",
       "      <td>29</td>\n",
       "      <td>0</td>\n",
       "      <td>26.6</td>\n",
       "      <td>0.351</td>\n",
       "      <td>31</td>\n",
       "      <td>0</td>\n",
       "    </tr>\n",
       "    <tr>\n",
       "      <th>2</th>\n",
       "      <td>8</td>\n",
       "      <td>183</td>\n",
       "      <td>64</td>\n",
       "      <td>0</td>\n",
       "      <td>0</td>\n",
       "      <td>23.3</td>\n",
       "      <td>0.672</td>\n",
       "      <td>32</td>\n",
       "      <td>1</td>\n",
       "    </tr>\n",
       "    <tr>\n",
       "      <th>3</th>\n",
       "      <td>1</td>\n",
       "      <td>89</td>\n",
       "      <td>66</td>\n",
       "      <td>23</td>\n",
       "      <td>94</td>\n",
       "      <td>28.1</td>\n",
       "      <td>0.167</td>\n",
       "      <td>21</td>\n",
       "      <td>0</td>\n",
       "    </tr>\n",
       "    <tr>\n",
       "      <th>4</th>\n",
       "      <td>0</td>\n",
       "      <td>137</td>\n",
       "      <td>40</td>\n",
       "      <td>35</td>\n",
       "      <td>168</td>\n",
       "      <td>43.1</td>\n",
       "      <td>2.288</td>\n",
       "      <td>33</td>\n",
       "      <td>1</td>\n",
       "    </tr>\n",
       "    <tr>\n",
       "      <th>5</th>\n",
       "      <td>5</td>\n",
       "      <td>116</td>\n",
       "      <td>74</td>\n",
       "      <td>0</td>\n",
       "      <td>0</td>\n",
       "      <td>25.6</td>\n",
       "      <td>0.201</td>\n",
       "      <td>30</td>\n",
       "      <td>0</td>\n",
       "    </tr>\n",
       "    <tr>\n",
       "      <th>6</th>\n",
       "      <td>3</td>\n",
       "      <td>78</td>\n",
       "      <td>50</td>\n",
       "      <td>32</td>\n",
       "      <td>88</td>\n",
       "      <td>31.0</td>\n",
       "      <td>0.248</td>\n",
       "      <td>26</td>\n",
       "      <td>1</td>\n",
       "    </tr>\n",
       "    <tr>\n",
       "      <th>7</th>\n",
       "      <td>10</td>\n",
       "      <td>115</td>\n",
       "      <td>0</td>\n",
       "      <td>0</td>\n",
       "      <td>0</td>\n",
       "      <td>35.3</td>\n",
       "      <td>0.134</td>\n",
       "      <td>29</td>\n",
       "      <td>0</td>\n",
       "    </tr>\n",
       "    <tr>\n",
       "      <th>8</th>\n",
       "      <td>2</td>\n",
       "      <td>197</td>\n",
       "      <td>70</td>\n",
       "      <td>45</td>\n",
       "      <td>543</td>\n",
       "      <td>30.5</td>\n",
       "      <td>0.158</td>\n",
       "      <td>53</td>\n",
       "      <td>1</td>\n",
       "    </tr>\n",
       "    <tr>\n",
       "      <th>9</th>\n",
       "      <td>8</td>\n",
       "      <td>125</td>\n",
       "      <td>96</td>\n",
       "      <td>0</td>\n",
       "      <td>0</td>\n",
       "      <td>0.0</td>\n",
       "      <td>0.232</td>\n",
       "      <td>54</td>\n",
       "      <td>1</td>\n",
       "    </tr>\n",
       "  </tbody>\n",
       "</table>\n",
       "</div>"
      ],
      "text/plain": [
       "   preg  plas  pres  skin  test  mass   pedi  age  class\n",
       "0     6   148    72    35     0  33.6  0.627   50      1\n",
       "1     1    85    66    29     0  26.6  0.351   31      0\n",
       "2     8   183    64     0     0  23.3  0.672   32      1\n",
       "3     1    89    66    23    94  28.1  0.167   21      0\n",
       "4     0   137    40    35   168  43.1  2.288   33      1\n",
       "5     5   116    74     0     0  25.6  0.201   30      0\n",
       "6     3    78    50    32    88  31.0  0.248   26      1\n",
       "7    10   115     0     0     0  35.3  0.134   29      0\n",
       "8     2   197    70    45   543  30.5  0.158   53      1\n",
       "9     8   125    96     0     0   0.0  0.232   54      1"
      ]
     },
     "execution_count": 8,
     "metadata": {},
     "output_type": "execute_result"
    }
   ],
   "source": [
    "data.head(10)"
   ]
  },
  {
   "cell_type": "code",
   "execution_count": 9,
   "metadata": {
    "collapsed": false
   },
   "outputs": [
    {
     "data": {
      "text/plain": [
       "Index([u'preg', u'plas', u'pres', u'skin', u'test', u'mass', u'pedi', u'age',\n",
       "       u'class'],\n",
       "      dtype='object')"
      ]
     },
     "execution_count": 9,
     "metadata": {},
     "output_type": "execute_result"
    }
   ],
   "source": [
    "data.columns"
   ]
  },
  {
   "cell_type": "code",
   "execution_count": 10,
   "metadata": {
    "collapsed": true
   },
   "outputs": [],
   "source": [
    "d_preg = data.preg"
   ]
  },
  {
   "cell_type": "code",
   "execution_count": 11,
   "metadata": {
    "collapsed": false
   },
   "outputs": [
    {
     "data": {
      "text/plain": [
       "0       6\n",
       "1       1\n",
       "2       8\n",
       "3       1\n",
       "4       0\n",
       "5       5\n",
       "6       3\n",
       "7      10\n",
       "8       2\n",
       "9       8\n",
       "10      4\n",
       "11     10\n",
       "12     10\n",
       "13      1\n",
       "14      5\n",
       "15      7\n",
       "16      0\n",
       "17      7\n",
       "18      1\n",
       "19      1\n",
       "20      3\n",
       "21      8\n",
       "22      7\n",
       "23      9\n",
       "24     11\n",
       "25     10\n",
       "26      7\n",
       "27      1\n",
       "28     13\n",
       "29      5\n",
       "       ..\n",
       "738     2\n",
       "739     1\n",
       "740    11\n",
       "741     3\n",
       "742     1\n",
       "743     9\n",
       "744    13\n",
       "745    12\n",
       "746     1\n",
       "747     1\n",
       "748     3\n",
       "749     6\n",
       "750     4\n",
       "751     1\n",
       "752     3\n",
       "753     0\n",
       "754     8\n",
       "755     1\n",
       "756     7\n",
       "757     0\n",
       "758     1\n",
       "759     6\n",
       "760     2\n",
       "761     9\n",
       "762     9\n",
       "763    10\n",
       "764     2\n",
       "765     5\n",
       "766     1\n",
       "767     1\n",
       "Name: preg, dtype: int64"
      ]
     },
     "execution_count": 11,
     "metadata": {},
     "output_type": "execute_result"
    }
   ],
   "source": [
    "d_preg"
   ]
  },
  {
   "cell_type": "markdown",
   "metadata": {},
   "source": [
    "# Chapter 3. Numerical Computing with IPython"
   ]
  },
  {
   "cell_type": "code",
   "execution_count": 13,
   "metadata": {
    "collapsed": false
   },
   "outputs": [],
   "source": [
    "# this is the function to search the (interest position)in positions regard to target position \n",
    "def closest(target_position, positions):\n",
    "    x0, y0 = target_position\n",
    "    dbest, ibest = None, None\n",
    "    for i, (x, y) in enumerate(positions):\n",
    "        d = (x - x0) ** 2 + (y - y0) ** 2\n",
    "        if dbest is None or d < dbest:\n",
    "            dbest, ibest = d, i\n",
    "    return ibest"
   ]
  },
  {
   "cell_type": "code",
   "execution_count": 14,
   "metadata": {
    "collapsed": true
   },
   "outputs": [],
   "source": [
    "import random\n",
    "positions = [(random.random(), random.random()) for _ in xrange(10000)]"
   ]
  },
  {
   "cell_type": "code",
   "execution_count": 16,
   "metadata": {
    "collapsed": false
   },
   "outputs": [
    {
     "name": "stdout",
     "output_type": "stream",
     "text": [
      "100 loops, best of 3: 11.8 ms per loop\n"
     ]
    }
   ],
   "source": [
    "%timeit closest((.5, .5), positions)"
   ]
  },
  {
   "cell_type": "markdown",
   "metadata": {},
   "source": [
    "这个算法用了11.8ms来处理10,000个位置数据。"
   ]
  },
  {
   "cell_type": "markdown",
   "metadata": {
    "collapsed": true
   },
   "source": [
    "## 什么是 array？\n",
    "- 1维 array 是个向量\n",
    "- 2维 array 是个矩阵\n",
    "- n维 array 呢？\n",
    "\n",
    "> an n-dimensional array is a set of elements with the same data type that are indexed by a tuple of n integers\n",
    "\n",
    "如果是3维的可以想想一个3*3的魔方吧， 每个小块放一个数字。或者就是在一个三维坐标系中，一个点自身包含一个坐标\n",
    "\n",
    "一个 array 中 每个元素的类型都是相同的 data type (dtype)\n",
    "\n",
    "Numpy 中的数据类型\n",
    "\n",
    "- Booleans\n",
    "- signed/unsigned intergers\n",
    "- single-precison/double-precison floating point numbers\n",
    "- complex numbers\n",
    "- strings...\n",
    "\n",
    "> custom data types can also be defined\n",
    "\n",
    "那么可以自定义自己的数据类型。\n",
    "\n",
    "啊哈，每个 array 元素存放在存储器中的啊 那必须啊\n",
    "那么如何store呢？\n",
    "\n",
    "对于一个矩阵：\n",
    "\n",
    "- row-major order (C-order)的方式存储 先存一行再存下一行的数据\n",
    "- column-major order (Fort an-order) 的方式存储，先存第一列的数据，再存第二列...\n",
    "\n",
    "这就取决于 在array的元素 哪个的index走的快。 我的理解就是，2*2的矩阵，那么选 c-order or Fort an-order 一样咯\n",
    "2*3 的就不不一样了。\n",
    "\n",
    "在NumPy中 默认的方式是 C-order， 可以修改， 通过关键词 order.\n",
    "\n",
    "> This notion can be extended to any number of dimensions.\n",
    "\n",
    "步长了吧\n",
    "\n",
    ">　The stride defines the number of steps in each dimension that are made as one goes through all elements.\n",
    "\n",
    "array 的好处 计算更加快了，想想用矩阵来替代loop那\n",
    "\n",
    "> The advantage of arrays compared with native Python types is that it is possible to perform very efficient computations on arrays \n",
    "instead of relying on Python loops.  \n",
    "> The difference is that the loop is implemented internally in C by NumPy instead of Python, so that there is no longer the cost of \n",
    "interpretation within the loop.Indeed, Python being an interpreted, dynamically-typed language, each iteration involves various \n",
    "low-level operations performed by Python (type checking and so on). Those operations generally take negligible time, but they become \n",
    "noxious to performance when they are repeated millions of times.\n",
    "\n",
    "2016.4.27.10:56pm"
   ]
  }
 ],
 "metadata": {
  "kernelspec": {
   "display_name": "Python 2",
   "language": "python",
   "name": "python2"
  },
  "language_info": {
   "codemirror_mode": {
    "name": "ipython",
    "version": 2
   },
   "file_extension": ".py",
   "mimetype": "text/x-python",
   "name": "python",
   "nbconvert_exporter": "python",
   "pygments_lexer": "ipython2",
   "version": "2.7.11"
  }
 },
 "nbformat": 4,
 "nbformat_minor": 0
}
